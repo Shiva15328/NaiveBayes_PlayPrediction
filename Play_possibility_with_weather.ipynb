{
 "cells": [
  {
   "cell_type": "code",
   "execution_count": 1,
   "id": "21a9cd77",
   "metadata": {},
   "outputs": [],
   "source": [
    "#Import dependencies\n",
    "import numpy as np\n",
    "import pandas as pd"
   ]
  },
  {
   "cell_type": "code",
   "execution_count": 2,
   "id": "d7f9fcdc",
   "metadata": {},
   "outputs": [
    {
     "name": "stdout",
     "output_type": "stream",
     "text": [
      "    outlook temperature humidity  windy play\n",
      "0     sunny         hot     high  False   no\n",
      "1     sunny         hot     high   True   no\n",
      "2  overcast         hot     high  False  yes\n",
      "3     rainy        mild     high  False  yes\n",
      "4     rainy        cool   normal  False  yes\n"
     ]
    }
   ],
   "source": [
    "#Importing data \n",
    "dt = pd.read_csv('weather.csv')\n",
    "print(dt.head())"
   ]
  },
  {
   "cell_type": "code",
   "execution_count": 4,
   "id": "a93acb09",
   "metadata": {},
   "outputs": [
    {
     "name": "stdout",
     "output_type": "stream",
     "text": [
      "   outlook  temperature  humidity  windy  play\n",
      "0        0            0         0      0     0\n",
      "1        0            0         0      1     0\n",
      "2        1            0         0      0     1\n",
      "3        2            1         0      0     1\n",
      "4        2            2         1      0     1\n"
     ]
    }
   ],
   "source": [
    "#Factorized--Converting the text to numerical data\n",
    "dt['play']=pd.factorize(dt['play'])[0]\n",
    "dt['outlook']=pd.factorize(dt['outlook'])[0]\n",
    "dt['temperature']=pd.factorize(dt['temperature'])[0]\n",
    "dt['humidity']=pd.factorize(dt['humidity'])[0]\n",
    "dt['windy']=pd.factorize(dt['windy'])[0]\n",
    "# dt = dt.apply(lambda x : pd.factorize(x)[0]) # for applying to all columns\n",
    "print(dt.head())"
   ]
  },
  {
   "cell_type": "code",
   "execution_count": 5,
   "id": "8f74e806",
   "metadata": {},
   "outputs": [],
   "source": [
    "# defining the data set\n",
    "x = dt.iloc[:,0:-1] # x is the features in our dataset\n",
    "y = dt.iloc[:,-1] # y is the Labels in our dataset\n"
   ]
  },
  {
   "cell_type": "code",
   "execution_count": 6,
   "id": "eb141d4b",
   "metadata": {},
   "outputs": [],
   "source": [
    "from sklearn.model_selection import train_test_split\n",
    "x_train,x_test,y_train,y_test = train_test_split(x,y,test_size=0.10, random_state=0)\n"
   ]
  },
  {
   "cell_type": "code",
   "execution_count": 7,
   "id": "38434b07",
   "metadata": {},
   "outputs": [
    {
     "name": "stdout",
     "output_type": "stream",
     "text": [
      "Prediction values: [1 1]\n"
     ]
    }
   ],
   "source": [
    "# Preparing model as per Gaussian Naive Bayesian\n",
    "from sklearn.naive_bayes import GaussianNB\n",
    "model = GaussianNB().fit(x_train,y_train) #fitting our model\n",
    "\n",
    "y_pred = model.predict(x_test) #now predicting our model to our test dataset\n",
    "print(\"Prediction values:\",y_pred)"
   ]
  },
  {
   "cell_type": "code",
   "execution_count": 8,
   "id": "9e05fefa",
   "metadata": {},
   "outputs": [
    {
     "name": "stdout",
     "output_type": "stream",
     "text": [
      "The confusion matrix is --\n",
      " [[2]]\n"
     ]
    }
   ],
   "source": [
    "from sklearn.metrics import accuracy_score, confusion_matrix\n",
    "cm = confusion_matrix(y_test, y_pred)\n",
    "print(\"The confusion matrix is --\\n\",cm)"
   ]
  },
  {
   "cell_type": "code",
   "execution_count": 9,
   "id": "80476006",
   "metadata": {},
   "outputs": [
    {
     "name": "stdout",
     "output_type": "stream",
     "text": [
      "Accuracy==  1.0\n"
     ]
    }
   ],
   "source": [
    "#Now calculating the how much accurate our model is with comparing our predicted values and y_test.\n",
    "print(\"Accuracy== \",accuracy_score(y_test, y_pred))"
   ]
  },
  {
   "cell_type": "code",
   "execution_count": 12,
   "id": "41def3d4",
   "metadata": {},
   "outputs": [
    {
     "name": "stdout",
     "output_type": "stream",
     "text": [
      "Enter outlook(sunny/overcast/rainy):overcast\n",
      "Enter temp(hot/mild/cool) :cool\n",
      "Enter Humidity(high/normal):normal\n",
      "Enter windy(false/true):false\n",
      "   outlook  temperature  humidity  windy\n",
      "0        1            2         1      0\n",
      "Play possible\n"
     ]
    }
   ],
   "source": [
    "####### Metod #########\n",
    "# Create some feature values for this single row\n",
    "new = pd.DataFrame()\n",
    "\n",
    "outlook = input(\"Enter outlook(sunny/overcast/rainy):\")\n",
    "if(outlook==\"sunny\"):\n",
    "    outlook=0\n",
    "elif(outlook==\"overcast\"):\n",
    "    outlook=1\n",
    "elif(outlook==\"rainy\"):\n",
    "    outlook=2\n",
    "    \n",
    "temp=input(\"Enter temp(hot/mild/cool) :\")\n",
    "if(temp==\"hot\"):\n",
    "    temp=0\n",
    "elif(temp==\"mild\"):\n",
    "    temp=1\n",
    "elif(temp==\"cool\"):\n",
    "    temp=2\n",
    "    \n",
    "hum=input(\"Enter Humidity(high/normal):\")\n",
    "if(hum==\"high\"):\n",
    "    hum = 0\n",
    "elif(hum==\"normal\"):\n",
    "    hum = 1\n",
    "    \n",
    "wind = input(\"Enter windy(false/true):\")\n",
    "if(wind==\"false\"):\n",
    "    wind=0\n",
    "elif(wind==\"true\"):\n",
    "    wind=1\n",
    "\n",
    "new['outlook']=[outlook]\n",
    "new['temperature'] = [temp]\n",
    "new['humidity']=[hum]\n",
    "new['windy'] = [wind]\n",
    "print(new)\n",
    "y_pred = model.predict(new)\n",
    "if(y_pred==1):\n",
    "    print(\"Play possible\")\n",
    "else:\n",
    "    print(\"Play not Possible\")"
   ]
  },
  {
   "cell_type": "code",
   "execution_count": null,
   "id": "ba4461b3",
   "metadata": {},
   "outputs": [],
   "source": []
  }
 ],
 "metadata": {
  "kernelspec": {
   "display_name": "Python 3 (ipykernel)",
   "language": "python",
   "name": "python3"
  },
  "language_info": {
   "codemirror_mode": {
    "name": "ipython",
    "version": 3
   },
   "file_extension": ".py",
   "mimetype": "text/x-python",
   "name": "python",
   "nbconvert_exporter": "python",
   "pygments_lexer": "ipython3",
   "version": "3.9.13"
  }
 },
 "nbformat": 4,
 "nbformat_minor": 5
}
